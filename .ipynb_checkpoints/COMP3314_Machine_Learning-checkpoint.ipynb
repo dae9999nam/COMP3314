{
  "cells": [
    {
      "cell_type": "markdown",
      "metadata": {
        "id": "Lyndcl4ibwPn"
      },
      "source": [
        "In this course, we are going to learn three different learning.\n",
        "\n",
        "* Supervised Learning\n",
        "* Unsupervised Learning\n",
        "* Reinforcement Learning\n"
      ]
    },
    {
      "cell_type": "markdown",
      "metadata": {},
      "source": [
        "Pandas Library "
      ]
    },
    {
      "cell_type": "code",
      "execution_count": null,
      "metadata": {
        "vscode": {
          "languageId": "plaintext"
        }
      },
      "outputs": [],
      "source": [
        "# 1. Dataset Loading\n",
        "\n",
        "import pandas as pd\n",
        "df = pd.read_csv('https://archive.ics.uci.edu/ml/machine-learning-databases/iris/iris.data', header = None)\n",
        "df.head()\n",
        "\n",
        "\n"
      ]
    }
  ],
  "metadata": {
    "colab": {
      "provenance": []
    },
    "kernelspec": {
      "display_name": "Python 3",
      "name": "python3"
    },
    "language_info": {
      "name": "python"
    }
  },
  "nbformat": 4,
  "nbformat_minor": 0
}
