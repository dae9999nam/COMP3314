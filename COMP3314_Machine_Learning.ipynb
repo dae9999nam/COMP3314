{
  "nbformat": 4,
  "nbformat_minor": 0,
  "metadata": {
    "colab": {
      "provenance": []
    },
    "kernelspec": {
      "name": "python3",
      "display_name": "Python 3"
    },
    "language_info": {
      "name": "python"
    }
  },
  "cells": [
    {
      "cell_type": "markdown",
      "source": [
        "In this course, we are going to learn three different learning.\n",
        "\n",
        "* Supervised Learning\n",
        "* Unsupervised Learning\n",
        "* Reinforcement Learning\n"
      ],
      "metadata": {
        "id": "Lyndcl4ibwPn"
      }
    }
  ]
}